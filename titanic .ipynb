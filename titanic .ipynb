{
 "cells": [
  {
   "cell_type": "markdown",
   "id": "25156e64",
   "metadata": {},
   "source": [
    "Understanding the data\n",
    "Survival : 0 = No, 1 = Yes\n",
    "\n",
    "Pclass : A proxy for socio-economic status (SES) 1st = Upper 2nd = Middle 3rd = Lower\n",
    "\n",
    "sibsp : The # of siblings / spouses aboard the Titanic Sibling = brother, sister, stepbrother, stepsister Spouse =\n",
    "\n",
    "husband, wife (mistresses and fiancés were ignored)\n",
    "\n",
    "parch : The # of parents / children aboard the Titanic Parent = mother, father Child = daughter, son, stepdaughter, stepson Some children travelled only with a nanny, therefore parch=0 for them.\n",
    "\n",
    "Ticket : Ticket number\n",
    "\n",
    "Fare : Passenger fare\n",
    "\n",
    "Cabin : Cabin number embarked\n",
    "\n",
    "Port of Embarkation: C = Cherbourg, Q = Queenstown, S = Southampton\n",
    "\n",
    "Name, Sex , Age are self-explanatory"
   ]
  },
  {
   "cell_type": "markdown",
   "id": "c8d3209b",
   "metadata": {},
   "source": [
    "**Importing all necessary libraries**"
   ]
  },
  {
   "cell_type": "code",
   "execution_count": 3,
   "id": "84da24e5",
   "metadata": {},
   "outputs": [],
   "source": [
    "import pandas as pd\n",
    "import numpy as np\n",
    "import seaborn as sns \n",
    "import matplotlib.pyplot as plt\n",
    "%matplotlib inline"
   ]
  },
  {
   "cell_type": "markdown",
   "id": "f0723151",
   "metadata": {},
   "source": [
    "**Load the data**"
   ]
  },
  {
   "cell_type": "code",
   "execution_count": 4,
   "id": "5e691697",
   "metadata": {},
   "outputs": [],
   "source": [
    "train_data = pd.read_csv(r'C:\\Users\\P Kalyani Jyothirmai\\Downloads\\train.csv')\n",
    "test_data = pd.read_csv(r'C:\\Users\\P Kalyani Jyothirmai\\Downloads\\test.csv')"
   ]
  },
  {
   "cell_type": "code",
   "execution_count": 5,
   "id": "ec17348c",
   "metadata": {},
   "outputs": [
    {
     "data": {
      "text/html": [
       "<div>\n",
       "<style scoped>\n",
       "    .dataframe tbody tr th:only-of-type {\n",
       "        vertical-align: middle;\n",
       "    }\n",
       "\n",
       "    .dataframe tbody tr th {\n",
       "        vertical-align: top;\n",
       "    }\n",
       "\n",
       "    .dataframe thead th {\n",
       "        text-align: right;\n",
       "    }\n",
       "</style>\n",
       "<table border=\"1\" class=\"dataframe\">\n",
       "  <thead>\n",
       "    <tr style=\"text-align: right;\">\n",
       "      <th></th>\n",
       "      <th>PassengerId</th>\n",
       "      <th>Survived</th>\n",
       "      <th>Pclass</th>\n",
       "      <th>Name</th>\n",
       "      <th>Sex</th>\n",
       "      <th>Age</th>\n",
       "      <th>SibSp</th>\n",
       "      <th>Parch</th>\n",
       "      <th>Ticket</th>\n",
       "      <th>Fare</th>\n",
       "      <th>Cabin</th>\n",
       "      <th>Embarked</th>\n",
       "    </tr>\n",
       "  </thead>\n",
       "  <tbody>\n",
       "    <tr>\n",
       "      <th>0</th>\n",
       "      <td>1</td>\n",
       "      <td>0</td>\n",
       "      <td>3</td>\n",
       "      <td>Braund, Mr. Owen Harris</td>\n",
       "      <td>male</td>\n",
       "      <td>22.0</td>\n",
       "      <td>1</td>\n",
       "      <td>0</td>\n",
       "      <td>A/5 21171</td>\n",
       "      <td>7.2500</td>\n",
       "      <td>NaN</td>\n",
       "      <td>S</td>\n",
       "    </tr>\n",
       "    <tr>\n",
       "      <th>1</th>\n",
       "      <td>2</td>\n",
       "      <td>1</td>\n",
       "      <td>1</td>\n",
       "      <td>Cumings, Mrs. John Bradley (Florence Briggs Th...</td>\n",
       "      <td>female</td>\n",
       "      <td>38.0</td>\n",
       "      <td>1</td>\n",
       "      <td>0</td>\n",
       "      <td>PC 17599</td>\n",
       "      <td>71.2833</td>\n",
       "      <td>C85</td>\n",
       "      <td>C</td>\n",
       "    </tr>\n",
       "    <tr>\n",
       "      <th>2</th>\n",
       "      <td>3</td>\n",
       "      <td>1</td>\n",
       "      <td>3</td>\n",
       "      <td>Heikkinen, Miss. Laina</td>\n",
       "      <td>female</td>\n",
       "      <td>26.0</td>\n",
       "      <td>0</td>\n",
       "      <td>0</td>\n",
       "      <td>STON/O2. 3101282</td>\n",
       "      <td>7.9250</td>\n",
       "      <td>NaN</td>\n",
       "      <td>S</td>\n",
       "    </tr>\n",
       "    <tr>\n",
       "      <th>3</th>\n",
       "      <td>4</td>\n",
       "      <td>1</td>\n",
       "      <td>1</td>\n",
       "      <td>Futrelle, Mrs. Jacques Heath (Lily May Peel)</td>\n",
       "      <td>female</td>\n",
       "      <td>35.0</td>\n",
       "      <td>1</td>\n",
       "      <td>0</td>\n",
       "      <td>113803</td>\n",
       "      <td>53.1000</td>\n",
       "      <td>C123</td>\n",
       "      <td>S</td>\n",
       "    </tr>\n",
       "    <tr>\n",
       "      <th>4</th>\n",
       "      <td>5</td>\n",
       "      <td>0</td>\n",
       "      <td>3</td>\n",
       "      <td>Allen, Mr. William Henry</td>\n",
       "      <td>male</td>\n",
       "      <td>35.0</td>\n",
       "      <td>0</td>\n",
       "      <td>0</td>\n",
       "      <td>373450</td>\n",
       "      <td>8.0500</td>\n",
       "      <td>NaN</td>\n",
       "      <td>S</td>\n",
       "    </tr>\n",
       "  </tbody>\n",
       "</table>\n",
       "</div>"
      ],
      "text/plain": [
       "   PassengerId  Survived  Pclass  \\\n",
       "0            1         0       3   \n",
       "1            2         1       1   \n",
       "2            3         1       3   \n",
       "3            4         1       1   \n",
       "4            5         0       3   \n",
       "\n",
       "                                                Name     Sex   Age  SibSp  \\\n",
       "0                            Braund, Mr. Owen Harris    male  22.0      1   \n",
       "1  Cumings, Mrs. John Bradley (Florence Briggs Th...  female  38.0      1   \n",
       "2                             Heikkinen, Miss. Laina  female  26.0      0   \n",
       "3       Futrelle, Mrs. Jacques Heath (Lily May Peel)  female  35.0      1   \n",
       "4                           Allen, Mr. William Henry    male  35.0      0   \n",
       "\n",
       "   Parch            Ticket     Fare Cabin Embarked  \n",
       "0      0         A/5 21171   7.2500   NaN        S  \n",
       "1      0          PC 17599  71.2833   C85        C  \n",
       "2      0  STON/O2. 3101282   7.9250   NaN        S  \n",
       "3      0            113803  53.1000  C123        S  \n",
       "4      0            373450   8.0500   NaN        S  "
      ]
     },
     "execution_count": 5,
     "metadata": {},
     "output_type": "execute_result"
    }
   ],
   "source": [
    "train_data.head()"
   ]
  },
  {
   "cell_type": "code",
   "execution_count": 6,
   "id": "56ce9685",
   "metadata": {},
   "outputs": [
    {
     "data": {
      "text/plain": [
       "(891, 12)"
      ]
     },
     "execution_count": 6,
     "metadata": {},
     "output_type": "execute_result"
    }
   ],
   "source": [
    "train_data.shape"
   ]
  },
  {
   "cell_type": "code",
   "execution_count": 7,
   "id": "6e879104",
   "metadata": {},
   "outputs": [
    {
     "name": "stdout",
     "output_type": "stream",
     "text": [
      "<class 'pandas.core.frame.DataFrame'>\n",
      "RangeIndex: 891 entries, 0 to 890\n",
      "Data columns (total 12 columns):\n",
      " #   Column       Non-Null Count  Dtype  \n",
      "---  ------       --------------  -----  \n",
      " 0   PassengerId  891 non-null    int64  \n",
      " 1   Survived     891 non-null    int64  \n",
      " 2   Pclass       891 non-null    int64  \n",
      " 3   Name         891 non-null    object \n",
      " 4   Sex          891 non-null    object \n",
      " 5   Age          714 non-null    float64\n",
      " 6   SibSp        891 non-null    int64  \n",
      " 7   Parch        891 non-null    int64  \n",
      " 8   Ticket       891 non-null    object \n",
      " 9   Fare         891 non-null    float64\n",
      " 10  Cabin        204 non-null    object \n",
      " 11  Embarked     889 non-null    object \n",
      "dtypes: float64(2), int64(5), object(5)\n",
      "memory usage: 83.7+ KB\n"
     ]
    }
   ],
   "source": [
    "train_data.info()"
   ]
  },
  {
   "cell_type": "code",
   "execution_count": 10,
   "id": "ea706ad7",
   "metadata": {},
   "outputs": [],
   "source": [
    "train_data['PassengerId'] = train_data['PassengerId'].astype(float)\n",
    "train_data['Survived'] = train_data['Survived'].astype(float)\n",
    "train_data['Pclass'] = train_data['Pclass'].astype(float)\n",
    "train_data['SibSp'] = train_data['SibSp'].astype(float)\n",
    "train_data['Parch'] = train_data['Parch'].astype(float)"
   ]
  },
  {
   "cell_type": "code",
   "execution_count": 11,
   "id": "8c279dd4",
   "metadata": {},
   "outputs": [
    {
     "data": {
      "text/html": [
       "<div>\n",
       "<style scoped>\n",
       "    .dataframe tbody tr th:only-of-type {\n",
       "        vertical-align: middle;\n",
       "    }\n",
       "\n",
       "    .dataframe tbody tr th {\n",
       "        vertical-align: top;\n",
       "    }\n",
       "\n",
       "    .dataframe thead th {\n",
       "        text-align: right;\n",
       "    }\n",
       "</style>\n",
       "<table border=\"1\" class=\"dataframe\">\n",
       "  <thead>\n",
       "    <tr style=\"text-align: right;\">\n",
       "      <th></th>\n",
       "      <th>PassengerId</th>\n",
       "      <th>Pclass</th>\n",
       "      <th>Name</th>\n",
       "      <th>Sex</th>\n",
       "      <th>Age</th>\n",
       "      <th>SibSp</th>\n",
       "      <th>Parch</th>\n",
       "      <th>Ticket</th>\n",
       "      <th>Fare</th>\n",
       "      <th>Cabin</th>\n",
       "      <th>Embarked</th>\n",
       "    </tr>\n",
       "  </thead>\n",
       "  <tbody>\n",
       "    <tr>\n",
       "      <th>0</th>\n",
       "      <td>892</td>\n",
       "      <td>3</td>\n",
       "      <td>Kelly, Mr. James</td>\n",
       "      <td>male</td>\n",
       "      <td>34.5</td>\n",
       "      <td>0</td>\n",
       "      <td>0</td>\n",
       "      <td>330911</td>\n",
       "      <td>7.8292</td>\n",
       "      <td>NaN</td>\n",
       "      <td>Q</td>\n",
       "    </tr>\n",
       "    <tr>\n",
       "      <th>1</th>\n",
       "      <td>893</td>\n",
       "      <td>3</td>\n",
       "      <td>Wilkes, Mrs. James (Ellen Needs)</td>\n",
       "      <td>female</td>\n",
       "      <td>47.0</td>\n",
       "      <td>1</td>\n",
       "      <td>0</td>\n",
       "      <td>363272</td>\n",
       "      <td>7.0000</td>\n",
       "      <td>NaN</td>\n",
       "      <td>S</td>\n",
       "    </tr>\n",
       "    <tr>\n",
       "      <th>2</th>\n",
       "      <td>894</td>\n",
       "      <td>2</td>\n",
       "      <td>Myles, Mr. Thomas Francis</td>\n",
       "      <td>male</td>\n",
       "      <td>62.0</td>\n",
       "      <td>0</td>\n",
       "      <td>0</td>\n",
       "      <td>240276</td>\n",
       "      <td>9.6875</td>\n",
       "      <td>NaN</td>\n",
       "      <td>Q</td>\n",
       "    </tr>\n",
       "    <tr>\n",
       "      <th>3</th>\n",
       "      <td>895</td>\n",
       "      <td>3</td>\n",
       "      <td>Wirz, Mr. Albert</td>\n",
       "      <td>male</td>\n",
       "      <td>27.0</td>\n",
       "      <td>0</td>\n",
       "      <td>0</td>\n",
       "      <td>315154</td>\n",
       "      <td>8.6625</td>\n",
       "      <td>NaN</td>\n",
       "      <td>S</td>\n",
       "    </tr>\n",
       "    <tr>\n",
       "      <th>4</th>\n",
       "      <td>896</td>\n",
       "      <td>3</td>\n",
       "      <td>Hirvonen, Mrs. Alexander (Helga E Lindqvist)</td>\n",
       "      <td>female</td>\n",
       "      <td>22.0</td>\n",
       "      <td>1</td>\n",
       "      <td>1</td>\n",
       "      <td>3101298</td>\n",
       "      <td>12.2875</td>\n",
       "      <td>NaN</td>\n",
       "      <td>S</td>\n",
       "    </tr>\n",
       "  </tbody>\n",
       "</table>\n",
       "</div>"
      ],
      "text/plain": [
       "   PassengerId  Pclass                                          Name     Sex  \\\n",
       "0          892       3                              Kelly, Mr. James    male   \n",
       "1          893       3              Wilkes, Mrs. James (Ellen Needs)  female   \n",
       "2          894       2                     Myles, Mr. Thomas Francis    male   \n",
       "3          895       3                              Wirz, Mr. Albert    male   \n",
       "4          896       3  Hirvonen, Mrs. Alexander (Helga E Lindqvist)  female   \n",
       "\n",
       "    Age  SibSp  Parch   Ticket     Fare Cabin Embarked  \n",
       "0  34.5      0      0   330911   7.8292   NaN        Q  \n",
       "1  47.0      1      0   363272   7.0000   NaN        S  \n",
       "2  62.0      0      0   240276   9.6875   NaN        Q  \n",
       "3  27.0      0      0   315154   8.6625   NaN        S  \n",
       "4  22.0      1      1  3101298  12.2875   NaN        S  "
      ]
     },
     "execution_count": 11,
     "metadata": {},
     "output_type": "execute_result"
    }
   ],
   "source": [
    "test_data.head()"
   ]
  },
  {
   "cell_type": "markdown",
   "id": "e57189ee",
   "metadata": {},
   "source": [
    "We can see that total number of columns in test data is one less than that in train data.\n",
    "The missing column in the test data is survived column which we have to predict using suitable machine learning algorithm"
   ]
  },
  {
   "cell_type": "code",
   "execution_count": 12,
   "id": "92abfd9a",
   "metadata": {},
   "outputs": [
    {
     "name": "stdout",
     "output_type": "stream",
     "text": [
      "Total number of rows in training data  891\n",
      "Total number of columns in training data  12\n",
      "Total number of rows in test data  418\n",
      "Total number of columns in test data  11\n"
     ]
    }
   ],
   "source": [
    "print(\"Total number of rows in training data \", train_data.shape[0])\n",
    "print(\"Total number of columns in training data \", train_data.shape[1])\n",
    "print(\"Total number of rows in test data \", test_data.shape[0])\n",
    "print(\"Total number of columns in test data \", test_data.shape[1])"
   ]
  },
  {
   "cell_type": "markdown",
   "id": "c5609bb6",
   "metadata": {},
   "source": [
    "**Data visualization and Analysis**"
   ]
  },
  {
   "cell_type": "markdown",
   "id": "5249d4bd",
   "metadata": {},
   "source": [
    "Visualizing the number of null values in both data"
   ]
  },
  {
   "cell_type": "code",
   "execution_count": 13,
   "id": "d3d28b83",
   "metadata": {},
   "outputs": [
    {
     "data": {
      "image/png": "[encoded data removed]",
      "text/plain": [
       "<Figure size 1300x500 with 1 Axes>"
      ]
     },
     "metadata": {},
     "output_type": "display_data"
    }
   ],
   "source": [
    "plt.figure(figsize = (13,5))\n",
    "plt.bar(train_data.columns, train_data.isna().sum())\n",
    "plt.xlabel(\"Columns name\")\n",
    "plt.ylabel(\"Number of missing values in training data\")\n",
    "plt.show()\n",
    "# from the bar plot of missing value we can conclude that Cabin, Embarked and Cabin column has null value so, we \n",
    "# can either drop the entire row or can fill the nan value with some values like mean, meadian. \n"
   ]
  },
  {
   "cell_type": "code",
   "execution_count": 14,
   "id": "1ecbac61",
   "metadata": {},
   "outputs": [
    {
     "data": {
      "image/png": "[encoded data removed]",
      "text/plain": [
       "<Figure size 1300x500 with 1 Axes>"
      ]
     },
     "metadata": {},
     "output_type": "display_data"
    }
   ],
   "source": [
    "plt.figure(figsize = (13,5))\n",
    "plt.bar(test_data.columns, test_data.isnull().sum().values, color = 'red')\n",
    "plt.xlabel(\"Columns name\")\n",
    "plt.ylabel(\"Number of missing values in test data\")\n",
    "plt.show()\n",
    "# similarly we can conclude that Age Cabin and Fare column has nan values ."
   ]
  },
  {
   "cell_type": "code",
   "execution_count": 15,
   "id": "4e939834",
   "metadata": {},
   "outputs": [
    {
     "data": {
      "image/png": "[encoded data removed]",
      "text/plain": [
       "<Figure size 640x480 with 1 Axes>"
      ]
     },
     "metadata": {},
     "output_type": "display_data"
    }
   ],
   "source": [
    "#Visualizing the Number of survived passenger\n",
    "sns.countplot(x='Survived', data=train_data)\n",
    "plt.show()\n",
    "# here we plot only for train_data as we donot have Survived column for test data,\n",
    "# This plot show that around 600 people died while around 300 survived"
   ]
  },
  {
   "cell_type": "code",
   "execution_count": 16,
   "id": "2be1c428",
   "metadata": {},
   "outputs": [
    {
     "data": {
      "image/png": "[encoded data removed]",
      "text/plain": [
       "<Figure size 640x480 with 1 Axes>"
      ]
     },
     "metadata": {},
     "output_type": "display_data"
    }
   ],
   "source": [
    "# visualizing the number of passenger from different embarked column in train_data\n",
    "sns.countplot(x='Embarked', data = train_data)\n",
    "plt.show()"
   ]
  },
  {
   "cell_type": "code",
   "execution_count": 17,
   "id": "315a642c",
   "metadata": {},
   "outputs": [
    {
     "data": {
      "image/png": "[encoded data removed]",
      "text/plain": [
       "<Figure size 640x480 with 1 Axes>"
      ]
     },
     "metadata": {},
     "output_type": "display_data"
    }
   ],
   "source": [
    "#visualizing whether gender affect the survival rate or not\n",
    "sns.countplot(x='Survived', hue = 'Sex', data = train_data)\n",
    "plt.plot()\n",
    "plt.show()\n",
    "# the graph clearly show that death rate for male passenger is way more than that for female"
   ]
  },
  {
   "cell_type": "code",
   "execution_count": 18,
   "id": "d849e568",
   "metadata": {},
   "outputs": [
    {
     "data": {
      "image/png": "[encoded data removed]",
      "text/plain": [
       "<Figure size 640x480 with 1 Axes>"
      ]
     },
     "metadata": {},
     "output_type": "display_data"
    }
   ],
   "source": [
    "# visualizing whether pclass affect the survial rate or not\n",
    "sns.countplot(x=\"Survived\", hue = 'Pclass', data = train_data)\n",
    "plt.show()\n",
    "# this graph clearly show that people in third class are more likely to die "
   ]
  },
  {
   "cell_type": "code",
   "execution_count": 19,
   "id": "95dca998",
   "metadata": {},
   "outputs": [
    {
     "data": {
      "image/png": "[encoded data removed]",
      "text/plain": [
       "<Figure size 640x480 with 1 Axes>"
      ]
     },
     "metadata": {},
     "output_type": "display_data"
    }
   ],
   "source": [
    "# visualizing whether embarked place affects the survival rate or not\n",
    "sns.countplot(x='Survived', hue = 'Embarked', data = train_data)\n",
    "plt.show()"
   ]
  },
  {
   "cell_type": "markdown",
   "id": "7e76cb45",
   "metadata": {},
   "source": [
    "Box and whisker plot"
   ]
  },
  {
   "cell_type": "code",
   "execution_count": 20,
   "id": "ffebc1ae",
   "metadata": {},
   "outputs": [
    {
     "data": {
      "image/png": "[encoded data removed]",
      "text/plain": [
       "<Figure size 640x480 with 1 Axes>"
      ]
     },
     "metadata": {},
     "output_type": "display_data"
    }
   ],
   "source": [
    "sns.boxplot(x='Fare', data = train_data)\n",
    "plt.show()\n",
    "# this shows that there were very few people who payed more than 100"
   ]
  },
  {
   "cell_type": "code",
   "execution_count": 21,
   "id": "b42a0cf7",
   "metadata": {},
   "outputs": [
    {
     "data": {
      "image/png": "[encoded data removed]",
      "text/plain": [
       "<Figure size 640x480 with 1 Axes>"
      ]
     },
     "metadata": {},
     "output_type": "display_data"
    }
   ],
   "source": [
    "sns.boxplot(x='Age', data = train_data)\n",
    "plt.show()\n",
    "# this shows that there were very few people more than 65 years old in training data"
   ]
  },
  {
   "cell_type": "code",
   "execution_count": 22,
   "id": "1ecbfe6e",
   "metadata": {},
   "outputs": [
    {
     "data": {
      "image/png": "[encoded data removed]",
      "text/plain": [
       "<Figure size 640x480 with 1 Axes>"
      ]
     },
     "metadata": {},
     "output_type": "display_data"
    }
   ],
   "source": [
    "# ploting histogram\n",
    "# choosing value for bin \n",
    "interval = 10\n",
    "value_for_bin = np.ceil((train_data.Age.max() - train_data.Age.min()) / interval).astype(int)\n",
    "\n",
    "plt.hist(train_data.Age, bins = value_for_bin)\n",
    "plt.xlabel(\"Age\")\n",
    "plt.ylabel(\"Number\")\n",
    "plt.show()\n",
    "# this shows that lots of passenger we from age between 20 to 40"
   ]
  },
  {
   "cell_type": "code",
   "execution_count": 23,
   "id": "207667a6",
   "metadata": {},
   "outputs": [
    {
     "data": {
      "image/png": "[encoded data removed]",
      "text/plain": [
       "<Figure size 1000x400 with 1 Axes>"
      ]
     },
     "metadata": {},
     "output_type": "display_data"
    }
   ],
   "source": [
    "plt.figure(figsize = (10,4))\n",
    "plt.hist(train_data.Fare, bins = 10, color = 'pink')\n",
    "plt.xlabel(\"Fare\")\n",
    "plt.ylabel(\"Number\")\n",
    "plt.show()\n",
    "# this shows that around 700 people pay in between 0 and 50"
   ]
  },
  {
   "cell_type": "code",
   "execution_count": 24,
   "id": "5a6b7a28",
   "metadata": {},
   "outputs": [
    {
     "data": {
      "image/png": "[encoded data removed]",
      "text/plain": [
       "<Figure size 715.111x660 with 6 Axes>"
      ]
     },
     "metadata": {},
     "output_type": "display_data"
    }
   ],
   "source": [
    "grid = sns.FacetGrid(train_data, col='Survived', row='Pclass', height=2.2, aspect=1.6)\n",
    "grid.map(plt.hist, 'Age', alpha=.5, bins=20)\n",
    "grid.add_legend()\n",
    "plt.show()"
   ]
  },
  {
   "cell_type": "code",
   "execution_count": 25,
   "id": "66b654bc",
   "metadata": {},
   "outputs": [
    {
     "name": "stderr",
     "output_type": "stream",
     "text": [
      "C:\\n_users\\jyothi\\lib\\site-packages\\seaborn\\axisgrid.py:712: UserWarning: Using the barplot function without specifying `order` is likely to produce an incorrect plot.\n",
      "  warnings.warn(warning)\n",
      "C:\\n_users\\jyothi\\lib\\site-packages\\seaborn\\axisgrid.py:848: FutureWarning: \n",
      "\n",
      "The `ci` parameter is deprecated. Use `errorbar=None` for the same effect.\n",
      "\n",
      "  func(*plot_args, **plot_kwargs)\n",
      "C:\\n_users\\jyothi\\lib\\site-packages\\seaborn\\axisgrid.py:848: FutureWarning: \n",
      "\n",
      "The `ci` parameter is deprecated. Use `errorbar=None` for the same effect.\n",
      "\n",
      "  func(*plot_args, **plot_kwargs)\n",
      "C:\\n_users\\jyothi\\lib\\site-packages\\seaborn\\axisgrid.py:848: FutureWarning: \n",
      "\n",
      "The `ci` parameter is deprecated. Use `errorbar=None` for the same effect.\n",
      "\n",
      "  func(*plot_args, **plot_kwargs)\n",
      "C:\\n_users\\jyothi\\lib\\site-packages\\seaborn\\axisgrid.py:848: FutureWarning: \n",
      "\n",
      "The `ci` parameter is deprecated. Use `errorbar=None` for the same effect.\n",
      "\n",
      "  func(*plot_args, **plot_kwargs)\n",
      "C:\\n_users\\jyothi\\lib\\site-packages\\seaborn\\axisgrid.py:848: FutureWarning: \n",
      "\n",
      "The `ci` parameter is deprecated. Use `errorbar=None` for the same effect.\n",
      "\n",
      "  func(*plot_args, **plot_kwargs)\n",
      "C:\\n_users\\jyothi\\lib\\site-packages\\seaborn\\axisgrid.py:848: FutureWarning: \n",
      "\n",
      "The `ci` parameter is deprecated. Use `errorbar=None` for the same effect.\n",
      "\n",
      "  func(*plot_args, **plot_kwargs)\n"
     ]
    },
    {
     "data": {
      "image/png": "[encoded data removed]",
      "text/plain": [
       "<Figure size 715.111x660 with 6 Axes>"
      ]
     },
     "metadata": {},
     "output_type": "display_data"
    }
   ],
   "source": [
    "grid = sns.FacetGrid(train_data, row='Embarked', col='Survived', height=2.2, aspect=1.6)\n",
    "grid.map(sns.barplot, 'Sex', 'Fare', alpha=.5, ci=None)\n",
    "grid.add_legend()\n",
    "plt.show()"
   ]
  },
  {
   "cell_type": "code",
   "execution_count": 26,
   "id": "381df239",
   "metadata": {},
   "outputs": [
    {
     "name": "stderr",
     "output_type": "stream",
     "text": [
      "C:\\Users\\P Kalyani Jyothirmai\\AppData\\Local\\Temp\\ipykernel_27224\\1293806725.py:1: FutureWarning: The default value of numeric_only in DataFrame.corr is deprecated. In a future version, it will default to False. Select only valid columns or specify the value of numeric_only to silence this warning.\n",
      "  corr_train = train_data.corr()\n"
     ]
    },
    {
     "data": {
      "image/png": "[encoded data removed]",
      "text/plain": [
       "<Figure size 640x480 with 2 Axes>"
      ]
     },
     "metadata": {},
     "output_type": "display_data"
    }
   ],
   "source": [
    "corr_train = train_data.corr()\n",
    "sns.heatmap(corr_train)\n",
    "plt.show()\n",
    "# this shows that SibSp and Parch columns are releted , so we can combine this two column to reduce the dimension\n",
    "# of our data.. this plot only works for columns with numercal data )"
   ]
  },
  {
   "cell_type": "markdown",
   "id": "4a9591b1",
   "metadata": {},
   "source": [
    "**Simple Data Analysis**"
   ]
  },
  {
   "cell_type": "markdown",
   "id": "55789d8e",
   "metadata": {},
   "source": [
    "Survival rate for male and female"
   ]
  },
  {
   "cell_type": "code",
   "execution_count": 27,
   "id": "09f55d20",
   "metadata": {},
   "outputs": [
    {
     "data": {
      "text/plain": [
       "Sex     Survived\n",
       "female  0.0         25.796178\n",
       "        1.0         74.203822\n",
       "male    0.0         81.109185\n",
       "        1.0         18.890815\n",
       "Name: Survived, dtype: float64"
      ]
     },
     "execution_count": 27,
     "metadata": {},
     "output_type": "execute_result"
    }
   ],
   "source": [
    "((train_data.groupby(['Sex','Survived']).Survived.count() * 100) / train_data.groupby('Sex').Survived.count())\n",
    "# this shows that female have around 74% chance of survival while male have around 81% chance of death"
   ]
  },
  {
   "cell_type": "markdown",
   "id": "b1a2969d",
   "metadata": {},
   "source": [
    "Survival rate on the basis of Pclass"
   ]
  },
  {
   "cell_type": "code",
   "execution_count": 28,
   "id": "30f5e04d",
   "metadata": {},
   "outputs": [
    {
     "data": {
      "text/plain": [
       "Pclass  Survived\n",
       "1.0     0.0         37.037037\n",
       "        1.0         62.962963\n",
       "2.0     0.0         52.717391\n",
       "        1.0         47.282609\n",
       "3.0     0.0         75.763747\n",
       "        1.0         24.236253\n",
       "Name: Survived, dtype: float64"
      ]
     },
     "execution_count": 28,
     "metadata": {},
     "output_type": "execute_result"
    }
   ],
   "source": [
    "(train_data.groupby(['Pclass','Survived']).Survived.count() * 100) / train_data.groupby('Pclass').Survived.count()\n",
    "# this shows that people belonging to third class are likely to die while people in class one are likely to survive"
   ]
  },
  {
   "cell_type": "markdown",
   "id": "6a32fe91",
   "metadata": {},
   "source": [
    "Survival rate on the basis of Embarked place"
   ]
  },
  {
   "cell_type": "code",
   "execution_count": 29,
   "id": "33bd99b9",
   "metadata": {},
   "outputs": [
    {
     "data": {
      "text/plain": [
       "Embarked  Survived\n",
       "C         0.0         44.642857\n",
       "          1.0         55.357143\n",
       "Q         0.0         61.038961\n",
       "          1.0         38.961039\n",
       "S         0.0         66.304348\n",
       "          1.0         33.695652\n",
       "Name: Survived, dtype: float64"
      ]
     },
     "execution_count": 29,
     "metadata": {},
     "output_type": "execute_result"
    }
   ],
   "source": [
    "(train_data.groupby(['Embarked','Survived']).Survived.count() * 100) / train_data.groupby('Embarked').Survived.count()\n",
    "# this shows that people who embarked from Southampton are likely to die"
   ]
  },
  {
   "cell_type": "code",
   "execution_count": 30,
   "id": "575f0b47",
   "metadata": {},
   "outputs": [
    {
     "name": "stderr",
     "output_type": "stream",
     "text": [
      "C:\\Users\\P Kalyani Jyothirmai\\AppData\\Local\\Temp\\ipykernel_27224\\3018503544.py:1: FutureWarning: The default value of numeric_only in DataFrameGroupBy.mean is deprecated. In a future version, numeric_only will default to False. Either specify numeric_only or select only columns which should be valid for the function.\n",
      "  train_data.groupby(by=['Survived']).mean()[\"Age\"]\n"
     ]
    },
    {
     "data": {
      "text/plain": [
       "Survived\n",
       "0.0    30.626179\n",
       "1.0    28.343690\n",
       "Name: Age, dtype: float64"
      ]
     },
     "execution_count": 30,
     "metadata": {},
     "output_type": "execute_result"
    }
   ],
   "source": [
    "train_data.groupby(by=['Survived']).mean()[\"Age\"]\n",
    "# this show that average age of people who survived was around 28 years old"
   ]
  },
  {
   "cell_type": "markdown",
   "id": "6530f9fb",
   "metadata": {},
   "source": [
    "Dealing with the Missing values"
   ]
  },
  {
   "cell_type": "code",
   "execution_count": 31,
   "id": "7fba42ae",
   "metadata": {},
   "outputs": [],
   "source": [
    "# before filling the missing values, let's drop Cabin column from both data.\n",
    "train_data.drop('Cabin', axis = 1, inplace = True)\n",
    "test_data.drop('Cabin', axis = 1, inplace = True)"
   ]
  },
  {
   "cell_type": "code",
   "execution_count": 32,
   "id": "a0b6a811",
   "metadata": {},
   "outputs": [
    {
     "name": "stdout",
     "output_type": "stream",
     "text": [
      "PassengerId      0\n",
      "Survived         0\n",
      "Pclass           0\n",
      "Name             0\n",
      "Sex              0\n",
      "Age            177\n",
      "SibSp            0\n",
      "Parch            0\n",
      "Ticket           0\n",
      "Fare             0\n",
      "Embarked         2\n",
      "dtype: int64\n",
      "********************\n",
      "PassengerId     0\n",
      "Pclass          0\n",
      "Name            0\n",
      "Sex             0\n",
      "Age            86\n",
      "SibSp           0\n",
      "Parch           0\n",
      "Ticket          0\n",
      "Fare            1\n",
      "Embarked        0\n",
      "dtype: int64\n",
      "********************\n"
     ]
    }
   ],
   "source": [
    "combined_data = [train_data, test_data]\n",
    "for data in combined_data:\n",
    "    print(data.isnull().sum())\n",
    "    print('*' * 20)\n",
    "      "
   ]
  },
  {
   "cell_type": "code",
   "execution_count": 33,
   "id": "d116f742",
   "metadata": {},
   "outputs": [],
   "source": [
    "# filling the nan values fo Age and fare column with the mean while Embarked column with most_frequent value\n",
    "for data in combined_data:\n",
    "    data.Age.fillna(data.Age.mean(), inplace = True)\n",
    "    data.Fare.fillna(data.Fare.mean(), inplace = True)\n",
    "    \n",
    "# from visualization we know that Southamptom is most frequent Embarked place so, filling the missing value \n",
    "# with 'S'\n",
    "train_data.Embarked.fillna('S', inplace = True)\n",
    "# we simply can use SimpleImputer class form the sklearn to deal with the missing value\n",
    "# from sklearn.impute import SimpleImputer\n",
    "# impute = SimpleImputer(missing_values = np.nan, strategy = 'mean')\n",
    "# train_data[['Age']] = impute.fit_transform(train_data[['Age']])"
   ]
  },
  {
   "cell_type": "markdown",
   "id": "d0ca5947",
   "metadata": {},
   "source": [
    "**Converting a categorical feature**"
   ]
  },
  {
   "cell_type": "markdown",
   "id": "76cb94c2",
   "metadata": {},
   "source": [
    "Let's start by converting Sex feature to categorical female=1 and male=0"
   ]
  },
  {
   "cell_type": "code",
   "execution_count": 34,
   "id": "c64fc03b",
   "metadata": {},
   "outputs": [],
   "source": [
    "def change_gender(x):\n",
    "    if x == 'male':\n",
    "        return 0\n",
    "    elif x == 'female':\n",
    "        return 1\n",
    "train_data.Sex = train_data.Sex.apply(change_gender)\n",
    "test_data.Sex = test_data.Sex.apply(change_gender)\n",
    "# we simply can use mapfunction to change the gender\n",
    "# train_data.Sex = train_data.Sex.map({'female':1, 'male':0})"
   ]
  },
  {
   "cell_type": "markdown",
   "id": "a9871830",
   "metadata": {},
   "source": [
    "using map funcion to change the Embarked column S = 1, C = 2, Q = 0"
   ]
  },
  {
   "cell_type": "code",
   "execution_count": 35,
   "id": "4abe988a",
   "metadata": {},
   "outputs": [],
   "source": [
    "change = {'S':1,'C':2,'Q':0}\n",
    "train_data.Embarked = train_data.Embarked.map(change)\n",
    "test_data.Embarked = test_data.Embarked.map(change)"
   ]
  },
  {
   "cell_type": "markdown",
   "id": "46958a6d",
   "metadata": {},
   "source": [
    "**Feature Extraction**"
   ]
  },
  {
   "cell_type": "markdown",
   "id": "35ab5f55",
   "metadata": {},
   "source": [
    "while visualizing the correlation heatmap we came to know that Sibsp and Parch columns were closely related so lets created new column called Alone using this two columns   1 = Alone , 0 = not Alone"
   ]
  },
  {
   "cell_type": "code",
   "execution_count": 36,
   "id": "dbe6ddf5",
   "metadata": {},
   "outputs": [],
   "source": [
    "train_data['Alone'] = train_data.SibSp + train_data.Parch\n",
    "test_data['Alone'] = test_data.SibSp + test_data.Parch\n",
    "\n",
    "train_data.Alone = train_data.Alone.apply(lambda x: 1 if x == 0 else 0)\n",
    "test_data.Alone = test_data.Alone.apply(lambda x: 1 if x == 0 else 0)"
   ]
  },
  {
   "cell_type": "code",
   "execution_count": 37,
   "id": "d32f8fc9",
   "metadata": {},
   "outputs": [],
   "source": [
    "# now lets drop SibSp and Parch column for both training and testing data\n",
    "train_data.drop(['SibSp','Parch'], axis = 1, inplace = True)\n",
    "test_data.drop(['SibSp','Parch'], axis = 1, inplace = True )"
   ]
  },
  {
   "cell_type": "markdown",
   "id": "a91a2533",
   "metadata": {},
   "source": [
    "Creating new feature Title extracting from existing feature Name"
   ]
  },
  {
   "cell_type": "code",
   "execution_count": 38,
   "id": "e2ad0301",
   "metadata": {},
   "outputs": [
    {
     "data": {
      "text/plain": [
       "17"
      ]
     },
     "execution_count": 38,
     "metadata": {},
     "output_type": "execute_result"
    }
   ],
   "source": [
    "train_data.Name.str.extract(' ([A-Za-z]+)\\.', expand=False).unique().size\n",
    "# there are total 17 unique title"
   ]
  },
  {
   "cell_type": "code",
   "execution_count": 39,
   "id": "54adc727",
   "metadata": {},
   "outputs": [],
   "source": [
    "# lets create the Title feature which contain the title of the passenger and drop Name column\n",
    "for data in combined_data:\n",
    "    data['Title'] = data.Name.str.extract('([A-Za-z]+)\\.', expand = False)\n",
    "    data.drop('Name', axis = 1, inplace = True)"
   ]
  },
  {
   "cell_type": "code",
   "execution_count": 40,
   "id": "35602aa7",
   "metadata": {},
   "outputs": [
    {
     "data": {
      "text/plain": [
       "Mr          517\n",
       "Miss        182\n",
       "Mrs         125\n",
       "Master       40\n",
       "Dr            7\n",
       "Rev           6\n",
       "Mlle          2\n",
       "Major         2\n",
       "Col           2\n",
       "Countess      1\n",
       "Capt          1\n",
       "Ms            1\n",
       "Sir           1\n",
       "Lady          1\n",
       "Mme           1\n",
       "Don           1\n",
       "Jonkheer      1\n",
       "Name: Title, dtype: int64"
      ]
     },
     "execution_count": 40,
     "metadata": {},
     "output_type": "execute_result"
    }
   ],
   "source": [
    "train_data.Title.value_counts()"
   ]
  },
  {
   "cell_type": "code",
   "execution_count": 41,
   "id": "7b26495c",
   "metadata": {},
   "outputs": [
    {
     "data": {
      "text/plain": [
       "array(['Mr', 'Mrs', 'Miss', 'Master', 'Ms', 'Col', 'Rev', 'Dr', 'Dona'],\n",
       "      dtype=object)"
      ]
     },
     "execution_count": 41,
     "metadata": {},
     "output_type": "execute_result"
    }
   ],
   "source": [
    "test_data.Title.unique()"
   ]
  },
  {
   "cell_type": "code",
   "execution_count": 42,
   "id": "75a8ec1f",
   "metadata": {},
   "outputs": [],
   "source": [
    "#lets replace least occuring title in the data with rare\n",
    "least_occuring = [ 'Don', 'Rev', 'Dr', 'Mme', 'Ms',\n",
    "       'Major', 'Lady', 'Sir', 'Mlle', 'Col', 'Capt', 'Countess','Dona',\n",
    "       'Jonkheer']\n",
    "for data in combined_data:\n",
    "    data.Title = data.Title.replace(least_occuring, 'Rare')"
   ]
  },
  {
   "cell_type": "code",
   "execution_count": 43,
   "id": "cb0ff2e8",
   "metadata": {},
   "outputs": [],
   "source": [
    "# lets perform title mapping in order to change to ordinal\n",
    "title_mapping = {\"Mr\": 1, \"Miss\": 2, \"Mrs\": 3, \"Master\": 4, \"Rare\": 5}\n",
    "for data in combined_data:\n",
    "    data['Title'] = data['Title'].map(title_mapping)"
   ]
  },
  {
   "cell_type": "markdown",
   "id": "472e6464",
   "metadata": {},
   "source": [
    "Dropping PassengerId and Ticket column"
   ]
  },
  {
   "cell_type": "code",
   "execution_count": 44,
   "id": "6bcb929a",
   "metadata": {},
   "outputs": [],
   "source": [
    "columns_to_drop = ['PassengerId','Ticket']\n",
    "train_data.drop(columns_to_drop, axis = 1, inplace = True)\n",
    "test_data.drop(columns_to_drop[1], axis = 1, inplace = True)"
   ]
  },
  {
   "cell_type": "markdown",
   "id": "e4f868cb",
   "metadata": {},
   "source": [
    "Binning Age and Fare columns"
   ]
  },
  {
   "cell_type": "code",
   "execution_count": 45,
   "id": "deafdbec",
   "metadata": {},
   "outputs": [],
   "source": [
    "for dataset in combined_data:    \n",
    "    dataset.loc[ dataset['Age'] <= 16, 'Age'] = 0\n",
    "    dataset.loc[(dataset['Age'] > 16) & (dataset['Age'] <= 32), 'Age'] = 1\n",
    "    dataset.loc[(dataset['Age'] > 32) & (dataset['Age'] <= 48), 'Age'] = 2\n",
    "    dataset.loc[(dataset['Age'] > 48) & (dataset['Age'] <= 64), 'Age'] = 3\n",
    "    dataset.loc[ dataset['Age'] > 64, 'Age'] = 4"
   ]
  },
  {
   "cell_type": "code",
   "execution_count": 46,
   "id": "aeea2400",
   "metadata": {},
   "outputs": [],
   "source": [
    "for data in combined_data:\n",
    "    data.loc[data['Fare'] < 30, 'Fare'] = 1\n",
    "    data.loc[(data['Fare'] >= 30) & (data['Fare'] < 50),'Fare'] = 2\n",
    "    data.loc[(data['Fare'] >= 50) & (data['Fare'] < 100),'Fare'] = 3\n",
    "    data.loc[(data['Fare'] >= 100),'Fare'] = 4"
   ]
  },
  {
   "cell_type": "code",
   "execution_count": 47,
   "id": "f0c07921",
   "metadata": {},
   "outputs": [
    {
     "data": {
      "image/png": "[encoded data removed]",
      "text/plain": [
       "<Figure size 640x480 with 2 Axes>"
      ]
     },
     "metadata": {},
     "output_type": "display_data"
    }
   ],
   "source": [
    "corr_train = train_data.corr()\n",
    "sns.heatmap(corr_train)\n",
    "plt.show()"
   ]
  },
  {
   "cell_type": "markdown",
   "id": "ee63da8b",
   "metadata": {},
   "source": [
    "preparing training and testing data"
   ]
  },
  {
   "cell_type": "code",
   "execution_count": 48,
   "id": "cb61f05c",
   "metadata": {},
   "outputs": [
    {
     "name": "stdout",
     "output_type": "stream",
     "text": [
      "shape of X_train (891, 7)\n",
      "Shape of Y_train (891,)\n",
      "Shape of x_test (418, 7)\n"
     ]
    }
   ],
   "source": [
    "X_train = train_data.drop(\"Survived\", axis=1)\n",
    "Y_train = train_data[\"Survived\"]\n",
    "X_test = test_data.drop(\"PassengerId\", axis = 1)\n",
    "print(\"shape of X_train\",X_train.shape)\n",
    "print(\"Shape of Y_train\",Y_train.shape)\n",
    "print(\"Shape of x_test\",X_test.shape)"
   ]
  },
  {
   "cell_type": "code",
   "execution_count": 49,
   "id": "051de0c3",
   "metadata": {},
   "outputs": [
    {
     "data": {
      "text/html": [
       "<div>\n",
       "<style scoped>\n",
       "    .dataframe tbody tr th:only-of-type {\n",
       "        vertical-align: middle;\n",
       "    }\n",
       "\n",
       "    .dataframe tbody tr th {\n",
       "        vertical-align: top;\n",
       "    }\n",
       "\n",
       "    .dataframe thead th {\n",
       "        text-align: right;\n",
       "    }\n",
       "</style>\n",
       "<table border=\"1\" class=\"dataframe\">\n",
       "  <thead>\n",
       "    <tr style=\"text-align: right;\">\n",
       "      <th></th>\n",
       "      <th>Pclass</th>\n",
       "      <th>Sex</th>\n",
       "      <th>Age</th>\n",
       "      <th>Fare</th>\n",
       "      <th>Embarked</th>\n",
       "      <th>Alone</th>\n",
       "      <th>Title</th>\n",
       "    </tr>\n",
       "  </thead>\n",
       "  <tbody>\n",
       "    <tr>\n",
       "      <th>0</th>\n",
       "      <td>3.0</td>\n",
       "      <td>0</td>\n",
       "      <td>1.0</td>\n",
       "      <td>1.0</td>\n",
       "      <td>1</td>\n",
       "      <td>0</td>\n",
       "      <td>1</td>\n",
       "    </tr>\n",
       "    <tr>\n",
       "      <th>1</th>\n",
       "      <td>1.0</td>\n",
       "      <td>1</td>\n",
       "      <td>2.0</td>\n",
       "      <td>3.0</td>\n",
       "      <td>2</td>\n",
       "      <td>0</td>\n",
       "      <td>3</td>\n",
       "    </tr>\n",
       "    <tr>\n",
       "      <th>2</th>\n",
       "      <td>3.0</td>\n",
       "      <td>1</td>\n",
       "      <td>1.0</td>\n",
       "      <td>1.0</td>\n",
       "      <td>1</td>\n",
       "      <td>1</td>\n",
       "      <td>2</td>\n",
       "    </tr>\n",
       "    <tr>\n",
       "      <th>3</th>\n",
       "      <td>1.0</td>\n",
       "      <td>1</td>\n",
       "      <td>2.0</td>\n",
       "      <td>3.0</td>\n",
       "      <td>1</td>\n",
       "      <td>0</td>\n",
       "      <td>3</td>\n",
       "    </tr>\n",
       "    <tr>\n",
       "      <th>4</th>\n",
       "      <td>3.0</td>\n",
       "      <td>0</td>\n",
       "      <td>2.0</td>\n",
       "      <td>1.0</td>\n",
       "      <td>1</td>\n",
       "      <td>1</td>\n",
       "      <td>1</td>\n",
       "    </tr>\n",
       "    <tr>\n",
       "      <th>...</th>\n",
       "      <td>...</td>\n",
       "      <td>...</td>\n",
       "      <td>...</td>\n",
       "      <td>...</td>\n",
       "      <td>...</td>\n",
       "      <td>...</td>\n",
       "      <td>...</td>\n",
       "    </tr>\n",
       "    <tr>\n",
       "      <th>886</th>\n",
       "      <td>2.0</td>\n",
       "      <td>0</td>\n",
       "      <td>1.0</td>\n",
       "      <td>1.0</td>\n",
       "      <td>1</td>\n",
       "      <td>1</td>\n",
       "      <td>5</td>\n",
       "    </tr>\n",
       "    <tr>\n",
       "      <th>887</th>\n",
       "      <td>1.0</td>\n",
       "      <td>1</td>\n",
       "      <td>1.0</td>\n",
       "      <td>2.0</td>\n",
       "      <td>1</td>\n",
       "      <td>1</td>\n",
       "      <td>2</td>\n",
       "    </tr>\n",
       "    <tr>\n",
       "      <th>888</th>\n",
       "      <td>3.0</td>\n",
       "      <td>1</td>\n",
       "      <td>1.0</td>\n",
       "      <td>1.0</td>\n",
       "      <td>1</td>\n",
       "      <td>0</td>\n",
       "      <td>2</td>\n",
       "    </tr>\n",
       "    <tr>\n",
       "      <th>889</th>\n",
       "      <td>1.0</td>\n",
       "      <td>0</td>\n",
       "      <td>1.0</td>\n",
       "      <td>2.0</td>\n",
       "      <td>2</td>\n",
       "      <td>1</td>\n",
       "      <td>1</td>\n",
       "    </tr>\n",
       "    <tr>\n",
       "      <th>890</th>\n",
       "      <td>3.0</td>\n",
       "      <td>0</td>\n",
       "      <td>1.0</td>\n",
       "      <td>1.0</td>\n",
       "      <td>0</td>\n",
       "      <td>1</td>\n",
       "      <td>1</td>\n",
       "    </tr>\n",
       "  </tbody>\n",
       "</table>\n",
       "<p>891 rows × 7 columns</p>\n",
       "</div>"
      ],
      "text/plain": [
       "     Pclass  Sex  Age  Fare  Embarked  Alone  Title\n",
       "0       3.0    0  1.0   1.0         1      0      1\n",
       "1       1.0    1  2.0   3.0         2      0      3\n",
       "2       3.0    1  1.0   1.0         1      1      2\n",
       "3       1.0    1  2.0   3.0         1      0      3\n",
       "4       3.0    0  2.0   1.0         1      1      1\n",
       "..      ...  ...  ...   ...       ...    ...    ...\n",
       "886     2.0    0  1.0   1.0         1      1      5\n",
       "887     1.0    1  1.0   2.0         1      1      2\n",
       "888     3.0    1  1.0   1.0         1      0      2\n",
       "889     1.0    0  1.0   2.0         2      1      1\n",
       "890     3.0    0  1.0   1.0         0      1      1\n",
       "\n",
       "[891 rows x 7 columns]"
      ]
     },
     "execution_count": 49,
     "metadata": {},
     "output_type": "execute_result"
    }
   ],
   "source": [
    "X_train"
   ]
  },
  {
   "cell_type": "code",
   "execution_count": 50,
   "id": "59a3b928",
   "metadata": {},
   "outputs": [
    {
     "name": "stdout",
     "output_type": "stream",
     "text": [
      "<class 'pandas.core.frame.DataFrame'>\n",
      "RangeIndex: 891 entries, 0 to 890\n",
      "Data columns (total 7 columns):\n",
      " #   Column    Non-Null Count  Dtype  \n",
      "---  ------    --------------  -----  \n",
      " 0   Pclass    891 non-null    float64\n",
      " 1   Sex       891 non-null    int64  \n",
      " 2   Age       891 non-null    float64\n",
      " 3   Fare      891 non-null    float64\n",
      " 4   Embarked  891 non-null    int64  \n",
      " 5   Alone     891 non-null    int64  \n",
      " 6   Title     891 non-null    int64  \n",
      "dtypes: float64(3), int64(4)\n",
      "memory usage: 48.9 KB\n"
     ]
    }
   ],
   "source": [
    "X_train.info()"
   ]
  },
  {
   "cell_type": "code",
   "execution_count": 51,
   "id": "3cae31f6",
   "metadata": {},
   "outputs": [],
   "source": [
    "#x_train = np.asarray(X_train).astype('float32')"
   ]
  },
  {
   "cell_type": "code",
   "execution_count": 52,
   "id": "6b245370",
   "metadata": {},
   "outputs": [],
   "source": [
    "#y_train = np.asarray(Y_train).astype('float32')"
   ]
  },
  {
   "cell_type": "code",
   "execution_count": 53,
   "id": "428f3baa",
   "metadata": {},
   "outputs": [
    {
     "name": "stdout",
     "output_type": "stream",
     "text": [
      "<class 'pandas.core.frame.DataFrame'>\n",
      "RangeIndex: 418 entries, 0 to 417\n",
      "Data columns (total 7 columns):\n",
      " #   Column    Non-Null Count  Dtype  \n",
      "---  ------    --------------  -----  \n",
      " 0   Pclass    418 non-null    int64  \n",
      " 1   Sex       418 non-null    int64  \n",
      " 2   Age       418 non-null    float64\n",
      " 3   Fare      418 non-null    float64\n",
      " 4   Embarked  418 non-null    int64  \n",
      " 5   Alone     418 non-null    int64  \n",
      " 6   Title     418 non-null    int64  \n",
      "dtypes: float64(2), int64(5)\n",
      "memory usage: 23.0 KB\n"
     ]
    }
   ],
   "source": [
    "X_test.info()"
   ]
  },
  {
   "cell_type": "code",
   "execution_count": 54,
   "id": "a8307f04",
   "metadata": {},
   "outputs": [],
   "source": [
    "#x_test = np.asarray(X_test).astype('float32')"
   ]
  },
  {
   "cell_type": "markdown",
   "id": "734dbd10",
   "metadata": {},
   "source": [
    "Import necessary libraries"
   ]
  },
  {
   "cell_type": "code",
   "execution_count": 55,
   "id": "7759dc16",
   "metadata": {},
   "outputs": [],
   "source": [
    "import tensorflow as tf\n",
    "import keras \n",
    "from keras.layers import Dense, Dropout, Input\n",
    "from keras.models import Sequential"
   ]
  },
  {
   "cell_type": "markdown",
   "id": "9ec63af6",
   "metadata": {},
   "source": [
    "**Defining model**\n",
    "\n",
    "*Here, I have used different number of neurons for each layer and different value for dropout. You can play with these hyperparameter for better output.*"
   ]
  },
  {
   "cell_type": "code",
   "execution_count": 56,
   "id": "ba036d2d",
   "metadata": {},
   "outputs": [],
   "source": [
    "model = Sequential()\n",
    "model.add(Dense(units = 32, input_shape = (7,), activation = 'relu'))\n",
    "model.add(Dense(units = 64, activation = 'relu', kernel_initializer = 'he_normal', use_bias = False))\n",
    "model.add(tf.keras.layers.BatchNormalization())\n",
    "model.add(Dense(units = 128, activation = 'relu',kernel_initializer = 'he_normal', use_bias = False))\n",
    "model.add(Dropout(0.1))\n",
    "model.add(Dense(units = 64, activation = 'relu',kernel_initializer = 'he_normal', use_bias = False))\n",
    "model.add(Dropout(0.1))\n",
    "model.add(Dense(units = 32, activation = 'relu'))\n",
    "model.add(Dropout(0.15))\n",
    "model.add(Dense(units = 16, activation = 'relu'))\n",
    "model.add(Dense(units = 8, activation = 'relu',kernel_initializer = 'he_normal', use_bias = False))\n",
    "model.add(Dense(units =1 , activation = 'sigmoid'))"
   ]
  },
  {
   "cell_type": "markdown",
   "id": "a60293c3",
   "metadata": {},
   "source": [
    "**Model summary**"
   ]
  },
  {
   "cell_type": "code",
   "execution_count": 57,
   "id": "b18eab1b",
   "metadata": {},
   "outputs": [
    {
     "name": "stdout",
     "output_type": "stream",
     "text": [
      "Model: \"sequential\"\n",
      "_________________________________________________________________\n",
      " Layer (type)                Output Shape              Param #   \n",
      "=================================================================\n",
      " dense (Dense)               (None, 32)                256       \n",
      "                                                                 \n",
      " dense_1 (Dense)             (None, 64)                2048      \n",
      "                                                                 \n",
      " batch_normalization (BatchN  (None, 64)               256       \n",
      " ormalization)                                                   \n",
      "                                                                 \n",
      " dense_2 (Dense)             (None, 128)               8192      \n",
      "                                                                 \n",
      " dropout (Dropout)           (None, 128)               0         \n",
      "                                                                 \n",
      " dense_3 (Dense)             (None, 64)                8192      \n",
      "                                                                 \n",
      " dropout_1 (Dropout)         (None, 64)                0         \n",
      "                                                                 \n",
      " dense_4 (Dense)             (None, 32)                2080      \n",
      "                                                                 \n",
      " dropout_2 (Dropout)         (None, 32)                0         \n",
      "                                                                 \n",
      " dense_5 (Dense)             (None, 16)                528       \n",
      "                                                                 \n",
      " dense_6 (Dense)             (None, 8)                 128       \n",
      "                                                                 \n",
      " dense_7 (Dense)             (None, 1)                 9         \n",
      "                                                                 \n",
      "=================================================================\n",
      "Total params: 21,689\n",
      "Trainable params: 21,561\n",
      "Non-trainable params: 128\n",
      "_________________________________________________________________\n"
     ]
    }
   ],
   "source": [
    "\n",
    "model.summary()"
   ]
  },
  {
   "cell_type": "markdown",
   "id": "3c562c22",
   "metadata": {},
   "source": [
    "**Compiling and fitting model**"
   ]
  },
  {
   "cell_type": "code",
   "execution_count": 59,
   "id": "e7c66a72",
   "metadata": {},
   "outputs": [
    {
     "name": "stdout",
     "output_type": "stream",
     "text": [
      "Epoch 1/50\n",
      "28/28 - 4s - loss: 0.5905 - acc: 0.6947 - 4s/epoch - 129ms/step\n",
      "Epoch 2/50\n",
      "28/28 - 0s - loss: 0.5013 - acc: 0.7677 - 97ms/epoch - 3ms/step\n",
      "Epoch 3/50\n",
      "28/28 - 0s - loss: 0.4650 - acc: 0.7789 - 106ms/epoch - 4ms/step\n",
      "Epoch 4/50\n",
      "28/28 - 0s - loss: 0.4565 - acc: 0.7924 - 111ms/epoch - 4ms/step\n",
      "Epoch 5/50\n",
      "28/28 - 0s - loss: 0.4464 - acc: 0.7845 - 93ms/epoch - 3ms/step\n",
      "Epoch 6/50\n",
      "28/28 - 0s - loss: 0.4287 - acc: 0.8171 - 92ms/epoch - 3ms/step\n",
      "Epoch 7/50\n",
      "28/28 - 0s - loss: 0.4452 - acc: 0.8092 - 95ms/epoch - 3ms/step\n",
      "Epoch 8/50\n",
      "28/28 - 0s - loss: 0.4140 - acc: 0.8182 - 112ms/epoch - 4ms/step\n",
      "Epoch 9/50\n",
      "28/28 - 0s - loss: 0.4180 - acc: 0.8159 - 107ms/epoch - 4ms/step\n",
      "Epoch 10/50\n",
      "28/28 - 0s - loss: 0.4178 - acc: 0.8114 - 93ms/epoch - 3ms/step\n",
      "Epoch 11/50\n",
      "28/28 - 0s - loss: 0.4111 - acc: 0.8227 - 92ms/epoch - 3ms/step\n",
      "Epoch 12/50\n",
      "28/28 - 0s - loss: 0.4054 - acc: 0.8159 - 109ms/epoch - 4ms/step\n",
      "Epoch 13/50\n",
      "28/28 - 0s - loss: 0.4103 - acc: 0.8294 - 103ms/epoch - 4ms/step\n",
      "Epoch 14/50\n",
      "28/28 - 0s - loss: 0.4065 - acc: 0.8294 - 100ms/epoch - 4ms/step\n",
      "Epoch 15/50\n",
      "28/28 - 0s - loss: 0.4274 - acc: 0.8182 - 100ms/epoch - 4ms/step\n",
      "Epoch 16/50\n",
      "28/28 - 0s - loss: 0.3973 - acc: 0.8249 - 105ms/epoch - 4ms/step\n",
      "Epoch 17/50\n",
      "28/28 - 0s - loss: 0.3786 - acc: 0.8193 - 94ms/epoch - 3ms/step\n",
      "Epoch 18/50\n",
      "28/28 - 0s - loss: 0.4113 - acc: 0.8159 - 98ms/epoch - 3ms/step\n",
      "Epoch 19/50\n",
      "28/28 - 0s - loss: 0.3847 - acc: 0.8305 - 101ms/epoch - 4ms/step\n",
      "Epoch 20/50\n",
      "28/28 - 0s - loss: 0.3934 - acc: 0.8316 - 104ms/epoch - 4ms/step\n",
      "Epoch 21/50\n",
      "28/28 - 0s - loss: 0.3924 - acc: 0.8328 - 102ms/epoch - 4ms/step\n",
      "Epoch 22/50\n",
      "28/28 - 0s - loss: 0.3977 - acc: 0.8350 - 112ms/epoch - 4ms/step\n",
      "Epoch 23/50\n",
      "28/28 - 0s - loss: 0.4030 - acc: 0.8159 - 95ms/epoch - 3ms/step\n",
      "Epoch 24/50\n",
      "28/28 - 0s - loss: 0.3882 - acc: 0.8339 - 93ms/epoch - 3ms/step\n",
      "Epoch 25/50\n",
      "28/28 - 0s - loss: 0.3764 - acc: 0.8316 - 92ms/epoch - 3ms/step\n",
      "Epoch 26/50\n",
      "28/28 - 0s - loss: 0.3770 - acc: 0.8361 - 96ms/epoch - 3ms/step\n",
      "Epoch 27/50\n",
      "28/28 - 0s - loss: 0.3793 - acc: 0.8384 - 110ms/epoch - 4ms/step\n",
      "Epoch 28/50\n",
      "28/28 - 0s - loss: 0.3765 - acc: 0.8227 - 95ms/epoch - 3ms/step\n",
      "Epoch 29/50\n",
      "28/28 - 0s - loss: 0.3575 - acc: 0.8462 - 96ms/epoch - 3ms/step\n",
      "Epoch 30/50\n",
      "28/28 - 0s - loss: 0.3856 - acc: 0.8305 - 99ms/epoch - 4ms/step\n",
      "Epoch 31/50\n",
      "28/28 - 0s - loss: 0.3845 - acc: 0.8227 - 99ms/epoch - 4ms/step\n",
      "Epoch 32/50\n",
      "28/28 - 0s - loss: 0.3795 - acc: 0.8361 - 103ms/epoch - 4ms/step\n",
      "Epoch 33/50\n",
      "28/28 - 0s - loss: 0.3779 - acc: 0.8451 - 96ms/epoch - 3ms/step\n",
      "Epoch 34/50\n",
      "28/28 - 0s - loss: 0.3844 - acc: 0.8339 - 87ms/epoch - 3ms/step\n",
      "Epoch 35/50\n",
      "28/28 - 0s - loss: 0.3841 - acc: 0.8294 - 104ms/epoch - 4ms/step\n",
      "Epoch 36/50\n",
      "28/28 - 0s - loss: 0.3755 - acc: 0.8361 - 97ms/epoch - 3ms/step\n",
      "Epoch 37/50\n",
      "28/28 - 0s - loss: 0.3773 - acc: 0.8384 - 93ms/epoch - 3ms/step\n",
      "Epoch 38/50\n",
      "28/28 - 0s - loss: 0.3830 - acc: 0.8350 - 94ms/epoch - 3ms/step\n",
      "Epoch 39/50\n",
      "28/28 - 0s - loss: 0.3775 - acc: 0.8418 - 95ms/epoch - 3ms/step\n",
      "Epoch 40/50\n",
      "28/28 - 0s - loss: 0.3756 - acc: 0.8440 - 109ms/epoch - 4ms/step\n",
      "Epoch 41/50\n",
      "28/28 - 0s - loss: 0.3735 - acc: 0.8485 - 94ms/epoch - 3ms/step\n",
      "Epoch 42/50\n",
      "28/28 - 0s - loss: 0.3653 - acc: 0.8462 - 100ms/epoch - 4ms/step\n",
      "Epoch 43/50\n",
      "28/28 - 0s - loss: 0.3794 - acc: 0.8418 - 94ms/epoch - 3ms/step\n",
      "Epoch 44/50\n",
      "28/28 - 0s - loss: 0.3623 - acc: 0.8451 - 99ms/epoch - 4ms/step\n",
      "Epoch 45/50\n",
      "28/28 - 0s - loss: 0.3614 - acc: 0.8384 - 91ms/epoch - 3ms/step\n",
      "Epoch 46/50\n",
      "28/28 - 0s - loss: 0.3681 - acc: 0.8451 - 108ms/epoch - 4ms/step\n",
      "Epoch 47/50\n",
      "28/28 - 0s - loss: 0.3646 - acc: 0.8496 - 105ms/epoch - 4ms/step\n",
      "Epoch 48/50\n",
      "28/28 - 0s - loss: 0.3544 - acc: 0.8384 - 94ms/epoch - 3ms/step\n",
      "Epoch 49/50\n",
      "28/28 - 0s - loss: 0.3859 - acc: 0.8361 - 101ms/epoch - 4ms/step\n",
      "Epoch 50/50\n",
      "28/28 - 0s - loss: 0.3660 - acc: 0.8485 - 95ms/epoch - 3ms/step\n"
     ]
    },
    {
     "data": {
      "text/plain": [
       "<keras.callbacks.History at 0x2c1c16a6920>"
      ]
     },
     "execution_count": 59,
     "metadata": {},
     "output_type": "execute_result"
    }
   ],
   "source": [
    "model.compile(loss = tf.keras.losses.binary_crossentropy, optimizer = tf.keras.optimizers.Adam(), metrics = ['acc'])\n",
    "model.fit(X_train, Y_train, batch_size = 32, verbose = 2, epochs = 50)"
   ]
  },
  {
   "cell_type": "markdown",
   "id": "9d24cd8e",
   "metadata": {},
   "source": [
    "Prediction for test data"
   ]
  },
  {
   "cell_type": "code",
   "execution_count": 60,
   "id": "3589f07a",
   "metadata": {},
   "outputs": [
    {
     "name": "stdout",
     "output_type": "stream",
     "text": [
      "14/14 [==============================] - 0s 2ms/step\n",
      "[0 0 0 0 1 0 1 0 1 0 0 0 1 0 1 1 0 0 0 0 0 1 1 1 1 0 1 0 0 0 0 0 0 1 1 0 0\n",
      " 0 0 1 0 0 0 1 1 0 1 0 1 0 0 0 1 1 0 0 0 0 0 1 0 0 0 1 1 1 1 0 0 1 1 0 0 0\n",
      " 1 0 0 1 0 1 1 0 0 0 0 0 1 0 0 1 1 0 1 0 0 0 1 0 0 0 1 0 0 0 1 0 0 0 0 0 0\n",
      " 1 1 1 1 0 0 0 0 1 1 0 1 0 0 0 0 1 0 0 0 0 1 0 0 0 0 0 0 0 0 1 0 0 0 0 0 0\n",
      " 0 0 1 0 0 0 0 0 1 0 0 1 1 1 1 0 0 1 0 0 1 0 0 0 0 0 0 1 1 0 1 1 0 1 1 0 1\n",
      " 0 1 0 0 0 0 0 1 0 1 0 1 0 0 1 1 1 1 1 0 0 0 0 1 0 0 0 0 1 0 0 1 0 1 0 1 0\n",
      " 1 0 1 1 0 1 0 0 0 1 0 0 1 0 0 0 1 1 1 1 0 0 0 1 1 0 1 1 1 0 0 0 0 0 0 0 1\n",
      " 0 0 0 1 0 0 0 0 0 0 0 0 0 1 1 0 1 0 0 0 0 0 1 1 1 0 0 0 0 0 0 0 1 0 0 0 0\n",
      " 1 0 0 0 0 0 0 0 1 1 0 1 0 0 0 0 0 0 1 1 0 0 0 0 0 0 0 0 1 0 1 0 0 0 1 1 0\n",
      " 1 0 0 0 0 0 1 0 0 0 1 0 0 0 0 0 1 1 0 0 0 0 0 1 0 0 1 0 1 1 0 1 0 0 1 1 0\n",
      " 0 1 0 0 1 1 0 0 0 0 0 0 1 1 0 1 0 0 0 1 0 1 1 0 0 1 0 1 0 0 1 0 1 0 0 0 0\n",
      " 0 1 0 1 1 0 0 1 0 0 1]\n"
     ]
    }
   ],
   "source": [
    "predict = model.predict(X_test)\n",
    "#since we have use sigmoid activation function in output layer\n",
    "predict = (predict > 0.5).astype(int).ravel()\n",
    "print(predict)"
   ]
  },
  {
   "cell_type": "markdown",
   "id": "de9a4be9",
   "metadata": {},
   "source": [
    "For submission"
   ]
  },
  {
   "cell_type": "code",
   "execution_count": 61,
   "id": "ee8b048a",
   "metadata": {},
   "outputs": [],
   "source": [
    "submit = pd.DataFrame({\"PassengerId\":test_data.PassengerId, 'Survived':predict})\n",
    "submit.to_csv(\"final_submission.csv\",index = False)"
   ]
  },
  {
   "cell_type": "code",
   "execution_count": 62,
   "id": "a208c971",
   "metadata": {},
   "outputs": [
    {
     "name": "stdout",
     "output_type": "stream",
     "text": [
      "28/28 [==============================] - 0s 2ms/step\n",
      "Precision :  86.16\n",
      "Accuracy :  85.07\n",
      "Recall :  72.81\n",
      "F1 score :  78.92\n",
      "AUC :  82.76\n"
     ]
    }
   ],
   "source": [
    "from sklearn import metrics\n",
    "Y_pred_rand = (model.predict(X_train) > 0.5).astype(int)\n",
    "print('Precision : ', np.round(metrics.precision_score(Y_train, Y_pred_rand)*100,2))\n",
    "print('Accuracy : ', np.round(metrics.accuracy_score(Y_train, Y_pred_rand)*100,2))\n",
    "print('Recall : ', np.round(metrics.recall_score(Y_train, Y_pred_rand)*100,2))\n",
    "print('F1 score : ', np.round(metrics.f1_score(Y_train, Y_pred_rand)*100,2))\n",
    "print('AUC : ', np.round(metrics.roc_auc_score(Y_train, Y_pred_rand)*100,2))"
   ]
  },
  {
   "cell_type": "code",
   "execution_count": 63,
   "id": "544bfc6e",
   "metadata": {},
   "outputs": [
    {
     "data": {
      "image/png": "[encoded data removed]",
      "text/plain": [
       "<Figure size 640x480 with 2 Axes>"
      ]
     },
     "metadata": {},
     "output_type": "display_data"
    }
   ],
   "source": [
    "# plotting the confusion matrix in heatmap\n",
    "matrix = metrics.confusion_matrix(Y_train, Y_pred_rand)\n",
    "sns.heatmap(matrix, annot = True,fmt = 'g')\n",
    "plt.show()"
   ]
  },
  {
   "cell_type": "code",
   "execution_count": null,
   "id": "2e7e875f",
   "metadata": {},
   "outputs": [],
   "source": []
  }
 ],
 "metadata": {
  "kernelspec": {
   "display_name": "Python 3 (ipykernel)",
   "language": "python",
   "name": "python3"
  },
  "language_info": {
   "codemirror_mode": {
    "name": "ipython",
    "version": 3
   },
   "file_extension": ".py",
   "mimetype": "text/x-python",
   "name": "python",
   "nbconvert_exporter": "python",
   "pygments_lexer": "ipython3",
   "version": "3.10.9"
  }
 },
 "nbformat": 4,
 "nbformat_minor": 5
}
